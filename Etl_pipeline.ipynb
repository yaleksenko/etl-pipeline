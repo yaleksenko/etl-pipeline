{
 "cells": [
  {
   "cell_type": "code",
   "execution_count": 28,
   "id": "bdb7a758-8106-4475-8512-ae4d3aea0dcc",
   "metadata": {},
   "outputs": [],
   "source": [
    "# import pandas"
   ]
  },
  {
   "cell_type": "code",
   "execution_count": 29,
   "id": "bc6dfa74-8fcb-4ab9-890e-6bf46386b103",
   "metadata": {},
   "outputs": [],
   "source": [
    "import pandas as pd"
   ]
  },
  {
   "cell_type": "code",
   "execution_count": 30,
   "id": "88c8c6fb-4b8a-467f-af9a-9c424843233b",
   "metadata": {},
   "outputs": [],
   "source": [
    "# Extract function that extract data from exchange_rates.csv"
   ]
  },
  {
   "cell_type": "code",
   "execution_count": 31,
   "id": "e3489e70-bf1e-447d-be23-35164279e412",
   "metadata": {},
   "outputs": [],
   "source": [
    "def extract(file_to_process):\n",
    "    dataframe = pd.read_csv(file_to_process, index_col=0)\n",
    "    return dataframe"
   ]
  },
  {
   "cell_type": "code",
   "execution_count": 32,
   "id": "31ff09eb-0b53-4cb3-a874-bd116832694a",
   "metadata": {},
   "outputs": [],
   "source": [
    "# Transform function that rounded the extracted data to 2 demical places"
   ]
  },
  {
   "cell_type": "code",
   "execution_count": 33,
   "id": "9df392ca-ab65-436a-8b77-a609a6b3fd5c",
   "metadata": {},
   "outputs": [],
   "source": [
    "def transform(df):\n",
    "    df['Rates'] = df['Rates'].round(3)\n",
    "    return df"
   ]
  },
  {
   "cell_type": "code",
   "execution_count": 34,
   "id": "dc48d7ae-5c76-43b3-b5ad-0040b69660e9",
   "metadata": {},
   "outputs": [],
   "source": [
    "# Load the transformed data a new file exchange_rates_rounded.csv"
   ]
  },
  {
   "cell_type": "code",
   "execution_count": 35,
   "id": "deda17de-5520-44c6-be36-4c5c7feb5092",
   "metadata": {},
   "outputs": [],
   "source": [
    "def load(df):\n",
    "    df.to_csv('exchange_rates_rounded.csv', index=False)"
   ]
  },
  {
   "cell_type": "code",
   "execution_count": 36,
   "id": "30324b8b-c5db-4218-8285-25d105074a6d",
   "metadata": {},
   "outputs": [],
   "source": [
    "# Logging"
   ]
  },
  {
   "cell_type": "code",
   "execution_count": 37,
   "id": "2067c9a4-e816-4aff-a89b-ae64d61b9f04",
   "metadata": {},
   "outputs": [],
   "source": [
    "import logging"
   ]
  },
  {
   "cell_type": "code",
   "execution_count": 38,
   "id": "dd4de2ce-e18b-4dbd-898d-b1124b9474b1",
   "metadata": {},
   "outputs": [],
   "source": [
    "# Set logging level to Info"
   ]
  },
  {
   "cell_type": "code",
   "execution_count": 39,
   "id": "ad33debd-45d1-405b-bbda-f15ba5c49cab",
   "metadata": {},
   "outputs": [],
   "source": [
    "logging.basicConfig(filename='etl.log', level=logging.INFO)"
   ]
  },
  {
   "cell_type": "code",
   "execution_count": 40,
   "id": "979aeeae-3945-4dd9-9ddd-358543e3ab1c",
   "metadata": {},
   "outputs": [],
   "source": [
    "# Log function"
   ]
  },
  {
   "cell_type": "code",
   "execution_count": 41,
   "id": "1bffaaa5-672c-4efa-85c0-4f9f26e6e727",
   "metadata": {},
   "outputs": [],
   "source": [
    "def log(message):\n",
    "    logging.info(message)"
   ]
  },
  {
   "cell_type": "code",
   "execution_count": 42,
   "id": "e926d41a-0030-4777-bc11-a39b4890b3e1",
   "metadata": {},
   "outputs": [],
   "source": [
    "# ETL PIPELINE"
   ]
  },
  {
   "cell_type": "code",
   "execution_count": 43,
   "id": "72e7e24d-9ca0-4e78-8b76-3994e31a62de",
   "metadata": {},
   "outputs": [],
   "source": [
    "log('Etl pipeline process started')"
   ]
  },
  {
   "cell_type": "code",
   "execution_count": 44,
   "id": "04ec7e0c-8a02-4d3e-a6ec-105437d6af13",
   "metadata": {},
   "outputs": [],
   "source": [
    "log('Extract process started')"
   ]
  },
  {
   "cell_type": "code",
   "execution_count": 45,
   "id": "6c2c7f37-18d5-482d-b6c0-05e0616a685c",
   "metadata": {},
   "outputs": [],
   "source": [
    "extracted_data = extract('exchange_rates.csv')"
   ]
  },
  {
   "cell_type": "code",
   "execution_count": 46,
   "id": "72515009-a081-45e2-9efc-df9a1e04ebb1",
   "metadata": {},
   "outputs": [],
   "source": [
    "log('Extract process ended')"
   ]
  },
  {
   "cell_type": "code",
   "execution_count": 47,
   "id": "a43da339-20bf-4b18-8da1-2bfccc8ba139",
   "metadata": {},
   "outputs": [],
   "source": [
    "log('Transform process started')"
   ]
  },
  {
   "cell_type": "code",
   "execution_count": 48,
   "id": "f23cf8a4-09c6-439b-87d8-2d1495a06e9c",
   "metadata": {},
   "outputs": [],
   "source": [
    "transformed_data = transform(extracted_data)"
   ]
  },
  {
   "cell_type": "code",
   "execution_count": 49,
   "id": "389bf17f-b2db-4bf9-94cb-2ce70dc80605",
   "metadata": {},
   "outputs": [],
   "source": [
    "log('Transform process ended')"
   ]
  },
  {
   "cell_type": "code",
   "execution_count": 50,
   "id": "1b097b8d-41ff-4c11-a63f-2828da9529d1",
   "metadata": {},
   "outputs": [],
   "source": [
    "log('Load process started')"
   ]
  },
  {
   "cell_type": "code",
   "execution_count": 51,
   "id": "efab54e3-81b1-48b5-8e8a-1ea916739a40",
   "metadata": {},
   "outputs": [],
   "source": [
    "load(transformed_data)"
   ]
  },
  {
   "cell_type": "code",
   "execution_count": 52,
   "id": "05168b43-e15e-4a74-a8b9-9d4583bba62e",
   "metadata": {},
   "outputs": [],
   "source": [
    "log('Load process ended')"
   ]
  },
  {
   "cell_type": "code",
   "execution_count": 53,
   "id": "0f77d656-ef5b-4c63-8ff3-93295c4bb917",
   "metadata": {},
   "outputs": [],
   "source": [
    "log('Etl pipeline process ended')"
   ]
  }
 ],
 "metadata": {
  "kernelspec": {
   "display_name": "Python 3 (ipykernel)",
   "language": "python",
   "name": "python3"
  },
  "language_info": {
   "codemirror_mode": {
    "name": "ipython",
    "version": 3
   },
   "file_extension": ".py",
   "mimetype": "text/x-python",
   "name": "python",
   "nbconvert_exporter": "python",
   "pygments_lexer": "ipython3",
   "version": "3.10.6"
  }
 },
 "nbformat": 4,
 "nbformat_minor": 5
}
