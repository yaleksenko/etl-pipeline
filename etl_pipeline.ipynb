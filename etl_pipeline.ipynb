{
 "cells": [
  {
   "cell_type": "code",
   "execution_count": 1,
   "id": "bdb7a758-8106-4475-8512-ae4d3aea0dcc",
   "metadata": {},
   "outputs": [],
   "source": [
    "# import all modules"
   ]
  },
  {
   "cell_type": "code",
   "execution_count": 2,
   "id": "bc6dfa74-8fcb-4ab9-890e-6bf46386b103",
   "metadata": {},
   "outputs": [],
   "source": [
    "import glob\n",
    "import pandas as pd\n",
    "import logging"
   ]
  },
  {
   "cell_type": "code",
   "execution_count": 3,
   "id": "c9a6595d-983b-4591-af90-1da3728b5b4b",
   "metadata": {},
   "outputs": [],
   "source": [
    "# Define all .json files in root directory"
   ]
  },
  {
   "cell_type": "code",
   "execution_count": 4,
   "id": "089d6872-6cb2-4acb-b321-328b3fa3306e",
   "metadata": {},
   "outputs": [
    {
     "data": {
      "text/plain": [
       "['bank_market_cap_1.json', 'bank_market_cap_2.json']"
      ]
     },
     "execution_count": 4,
     "metadata": {},
     "output_type": "execute_result"
    }
   ],
   "source": [
    "jsons = glob.glob('*.json')\n",
    "jsons"
   ]
  },
  {
   "cell_type": "code",
   "execution_count": 5,
   "id": "be467bd4-d1fa-4f4c-af86-dc82564d4717",
   "metadata": {},
   "outputs": [],
   "source": [
    "# Extract function for .json files"
   ]
  },
  {
   "cell_type": "code",
   "execution_count": 6,
   "id": "e3489e70-bf1e-447d-be23-35164279e412",
   "metadata": {},
   "outputs": [],
   "source": [
    "def extract(json):\n",
    "    dataframe = pd.DataFrame(columns=['Name','Market Cap (US$ Billion)'])\n",
    "    dataframe = pd.read_json(json)\n",
    "    return dataframe"
   ]
  },
  {
   "cell_type": "code",
   "execution_count": 7,
   "id": "ee2fc235-d9e1-4d4a-aa63-97860be4adfe",
   "metadata": {},
   "outputs": [],
   "source": [
    "#  Extract all .json files"
   ]
  },
  {
   "cell_type": "code",
   "execution_count": 8,
   "id": "23bdf040-7705-4cfa-8435-049bfa20f288",
   "metadata": {},
   "outputs": [],
   "source": [
    "def extract_all(jsons):\n",
    "    dataframes = []\n",
    "    for json in jsons:\n",
    "        dataframes.append(extract(json))\n",
    "    dataframes = pd.concat(dataframes).reset_index(drop=True)\n",
    "    return dataframes"
   ]
  },
  {
   "cell_type": "code",
   "execution_count": 9,
   "id": "6408a526-d04f-4c1f-8794-0084e8621891",
   "metadata": {},
   "outputs": [],
   "source": [
    "# Extract GBP rate from exchange_rates.csv file"
   ]
  },
  {
   "cell_type": "code",
   "execution_count": 10,
   "id": "a468f1e9-5ff4-4be2-a987-d0f36334e96a",
   "metadata": {},
   "outputs": [],
   "source": [
    "def rate(csv, currency):\n",
    "    df = pd.read_csv(csv, index_col=0)\n",
    "    rate = df.loc[currency, 'Rates']\n",
    "    return rate"
   ]
  },
  {
   "cell_type": "code",
   "execution_count": 11,
   "id": "31ff09eb-0b53-4cb3-a874-bd116832694a",
   "metadata": {},
   "outputs": [],
   "source": [
    "# Transform function with multiple tasks"
   ]
  },
  {
   "cell_type": "code",
   "execution_count": 12,
   "id": "9df392ca-ab65-436a-8b77-a609a6b3fd5c",
   "metadata": {},
   "outputs": [],
   "source": [
    "def transform(df, rate, round_to, new_column_name):\n",
    "    # Changes the Market Cap (US$ Billion) column from USD to GBP\n",
    "    df['Market Cap (US$ Billion)'] = df['Market Cap (US$ Billion)'] * rate\n",
    "\n",
    "    # Rounds the Market Cap (US$ Billion) column to 2 decimal places\n",
    "    df['Market Cap (US$ Billion)'] = df['Market Cap (US$ Billion)'].round(round_to)\n",
    "\n",
    "    #  Rename Market Cap (US$ Billion) to Market Cap (GBP$ Billion)\n",
    "    df.rename(columns={'Market Cap (US$ Billion)': new_column_name}, inplace=True)\n",
    "    return df"
   ]
  },
  {
   "cell_type": "code",
   "execution_count": 13,
   "id": "dc48d7ae-5c76-43b3-b5ad-0040b69660e9",
   "metadata": {},
   "outputs": [],
   "source": [
    "# Load function that loads the transformed data to a new .json file"
   ]
  },
  {
   "cell_type": "code",
   "execution_count": 14,
   "id": "deda17de-5520-44c6-be36-4c5c7feb5092",
   "metadata": {},
   "outputs": [],
   "source": [
    "def load(df, filename):\n",
    "    df.to_json(filename)"
   ]
  },
  {
   "cell_type": "code",
   "execution_count": 15,
   "id": "30324b8b-c5db-4218-8285-25d105074a6d",
   "metadata": {},
   "outputs": [],
   "source": [
    "# Logging function"
   ]
  },
  {
   "cell_type": "code",
   "execution_count": 16,
   "id": "dd4de2ce-e18b-4dbd-898d-b1124b9474b1",
   "metadata": {},
   "outputs": [],
   "source": [
    "# Set logging level to Info"
   ]
  },
  {
   "cell_type": "code",
   "execution_count": 17,
   "id": "ad33debd-45d1-405b-bbda-f15ba5c49cab",
   "metadata": {},
   "outputs": [],
   "source": [
    "logging.basicConfig(filename='etl.log', level=logging.INFO)"
   ]
  },
  {
   "cell_type": "code",
   "execution_count": 18,
   "id": "979aeeae-3945-4dd9-9ddd-358543e3ab1c",
   "metadata": {},
   "outputs": [],
   "source": [
    "# Log function"
   ]
  },
  {
   "cell_type": "code",
   "execution_count": 19,
   "id": "1bffaaa5-672c-4efa-85c0-4f9f26e6e727",
   "metadata": {},
   "outputs": [],
   "source": [
    "def log(message):\n",
    "    logging.info(message)"
   ]
  },
  {
   "cell_type": "code",
   "execution_count": 20,
   "id": "e926d41a-0030-4777-bc11-a39b4890b3e1",
   "metadata": {},
   "outputs": [],
   "source": [
    "# ETL PIPELINE"
   ]
  },
  {
   "cell_type": "code",
   "execution_count": 21,
   "id": "72e7e24d-9ca0-4e78-8b76-3994e31a62de",
   "metadata": {},
   "outputs": [],
   "source": [
    "log('Etl pipeline process started')"
   ]
  },
  {
   "cell_type": "code",
   "execution_count": 22,
   "id": "04ec7e0c-8a02-4d3e-a6ec-105437d6af13",
   "metadata": {},
   "outputs": [],
   "source": [
    "log('Extract process started')"
   ]
  },
  {
   "cell_type": "code",
   "execution_count": 23,
   "id": "6c2c7f37-18d5-482d-b6c0-05e0616a685c",
   "metadata": {},
   "outputs": [],
   "source": [
    "extracted_data = extract_all(jsons)"
   ]
  },
  {
   "cell_type": "code",
   "execution_count": 24,
   "id": "72515009-a081-45e2-9efc-df9a1e04ebb1",
   "metadata": {},
   "outputs": [],
   "source": [
    "log('Extract process ended')"
   ]
  },
  {
   "cell_type": "code",
   "execution_count": 25,
   "id": "a43da339-20bf-4b18-8da1-2bfccc8ba139",
   "metadata": {},
   "outputs": [],
   "source": [
    "log('Transform process started')"
   ]
  },
  {
   "cell_type": "code",
   "execution_count": 26,
   "id": "f23cf8a4-09c6-439b-87d8-2d1495a06e9c",
   "metadata": {},
   "outputs": [],
   "source": [
    "rate = rate('exchange_rates.csv', 'GBP')\n",
    "transformed_data = transform(extracted_data, rate, 3, 'Market Cap (GBP$ Billion)')"
   ]
  },
  {
   "cell_type": "code",
   "execution_count": 27,
   "id": "389bf17f-b2db-4bf9-94cb-2ce70dc80605",
   "metadata": {},
   "outputs": [],
   "source": [
    "log('Transform process ended')"
   ]
  },
  {
   "cell_type": "code",
   "execution_count": 28,
   "id": "1b097b8d-41ff-4c11-a63f-2828da9529d1",
   "metadata": {},
   "outputs": [],
   "source": [
    "log('Load process started')"
   ]
  },
  {
   "cell_type": "code",
   "execution_count": 29,
   "id": "efab54e3-81b1-48b5-8e8a-1ea916739a40",
   "metadata": {},
   "outputs": [],
   "source": [
    "load(transformed_data, 'bank_market_cap_gbp.json')"
   ]
  },
  {
   "cell_type": "code",
   "execution_count": 30,
   "id": "05168b43-e15e-4a74-a8b9-9d4583bba62e",
   "metadata": {},
   "outputs": [],
   "source": [
    "log('Load process ended')"
   ]
  },
  {
   "cell_type": "code",
   "execution_count": 31,
   "id": "0f77d656-ef5b-4c63-8ff3-93295c4bb917",
   "metadata": {},
   "outputs": [],
   "source": [
    "log('Etl pipeline process ended')"
   ]
  }
 ],
 "metadata": {
  "kernelspec": {
   "display_name": "Python 3 (ipykernel)",
   "language": "python",
   "name": "python3"
  },
  "language_info": {
   "codemirror_mode": {
    "name": "ipython",
    "version": 3
   },
   "file_extension": ".py",
   "mimetype": "text/x-python",
   "name": "python",
   "nbconvert_exporter": "python",
   "pygments_lexer": "ipython3",
   "version": "3.10.6"
  }
 },
 "nbformat": 4,
 "nbformat_minor": 5
}
